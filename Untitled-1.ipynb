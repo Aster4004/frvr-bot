{
 "cells": [
  {
   "cell_type": "code",
   "execution_count": 1,
   "metadata": {},
   "outputs": [],
   "source": [
    "import cv2 as cv\n",
    "import numpy as np\n",
    "from selenium import webdriver\n",
    "from webdriver_manager.chrome import ChromeDriverManager\n",
    "from selenium.webdriver.common.action_chains import ActionChains\n",
    "import time\n",
    "import pyautogui"
   ]
  },
  {
   "cell_type": "code",
   "execution_count": 2,
   "metadata": {},
   "outputs": [
    {
     "name": "stderr",
     "output_type": "stream",
     "text": [
      "C:\\Users\\AVAYB\\AppData\\Local\\Temp\\ipykernel_12360\\1459849295.py:6: DeprecationWarning: executable_path has been deprecated, please pass in a Service object\n",
      "  driver = webdriver.Chrome(ChromeDriverManager().install(), options=options)\n"
     ]
    }
   ],
   "source": [
    "# Set up Selenium Chrome driver\n",
    "options = webdriver.ChromeOptions()\n",
    "options.add_argument(\"--log-level=3\")\n",
    "options.add_argument(\"user-data-dir=C:\\\\Users\\\\AVAYB\\\\AppData\\\\Local\\\\Google\\\\Chrome Beta\\\\User Data\")\n",
    "options.binary_location = \"C:\\\\Program Files\\\\Google\\\\Chrome Beta\\\\Application\\\\chrome.exe\"\n",
    "driver = webdriver.Chrome(ChromeDriverManager().install(), options=options)"
   ]
  },
  {
   "cell_type": "code",
   "execution_count": 3,
   "metadata": {},
   "outputs": [],
   "source": [
    "# Load the web page\n",
    "driver.get('https://www.facebook.com/gaming/play/800772590062226/?source=www_homepage_shortcut')  # Replace with the URL of the web page"
   ]
  },
  {
   "cell_type": "code",
   "execution_count": 4,
   "metadata": {},
   "outputs": [],
   "source": [
    "# Wait for the page to load (adjust the sleep duration as needed)\n",
    "time.sleep(2)"
   ]
  },
  {
   "cell_type": "code",
   "execution_count": 5,
   "metadata": {},
   "outputs": [
    {
     "data": {
      "text/plain": [
       "True"
      ]
     },
     "execution_count": 5,
     "metadata": {},
     "output_type": "execute_result"
    }
   ],
   "source": [
    "# Take a screenshot of the web page\n",
    "screenshot_path = 'screenshot.png'\n",
    "driver.save_screenshot(screenshot_path)\n"
   ]
  },
  {
   "cell_type": "code",
   "execution_count": 6,
   "metadata": {},
   "outputs": [],
   "source": [
    "# Load the main image and the template images\n",
    "main_image = cv.imread(screenshot_path)\n",
    "hoop_template = cv.imread(\"./hoop.jpg\", 0)  # Load as grayscale\n",
    "basketball_template = cv.imread(\"./basketball.jpg\", 0)  # Load as grayscale\n"
   ]
  },
  {
   "cell_type": "code",
   "execution_count": 7,
   "metadata": {},
   "outputs": [],
   "source": [
    "# Convert images to grayscale\n",
    "gray_main = cv.cvtColor(main_image, cv.COLOR_BGR2GRAY)\n"
   ]
  },
  {
   "cell_type": "code",
   "execution_count": 8,
   "metadata": {},
   "outputs": [],
   "source": [
    "# Perform template matching for hoop\n",
    "hoop_result = cv.matchTemplate(gray_main, hoop_template, cv.TM_CCOEFF_NORMED)\n",
    "hoop_threshold = 0.5\n",
    "hoop_locations = np.where(hoop_result >= hoop_threshold)\n"
   ]
  },
  {
   "cell_type": "code",
   "execution_count": 9,
   "metadata": {},
   "outputs": [],
   "source": [
    "# Perform template matching for basketball\n",
    "basketball_result = cv.matchTemplate(gray_main, basketball_template, cv.TM_CCOEFF_NORMED)\n",
    "basketball_threshold = 0.6\n",
    "basketball_locations = np.where(basketball_result >= basketball_threshold)\n"
   ]
  },
  {
   "cell_type": "code",
   "execution_count": 10,
   "metadata": {},
   "outputs": [],
   "source": [
    "\n",
    "# Create bounding boxes around the matched regions for hoop\n",
    "for hoop_loc in zip(*hoop_locations[::-1]):\n",
    "    cv.rectangle(main_image, hoop_loc, (hoop_loc[0] + hoop_template.shape[1], hoop_loc[1] ), (0, 255, 0), 2)\n",
    "\n",
    "# Create bounding boxes around the matched regions for basketball\n",
    "for basketball_loc in zip(*basketball_locations[::-1]):\n",
    "    cv.rectangle(main_image, basketball_loc, (basketball_loc[0] + basketball_template.shape[1], basketball_loc[1] + basketball_template.shape[0]), (0, 255, ), 2)"
   ]
  },
  {
   "cell_type": "code",
   "execution_count": 11,
   "metadata": {},
   "outputs": [],
   "source": [
    "\n",
    "# Find the center of the basketball\n",
    "if len(basketball_locations) > 0:\n",
    "    basketball_x = basketball_locations[0][0] + basketball_locations[0][2] // 2\n",
    "    basketball_y = basketball_locations[0][1] + basketball_locations[0][3] // 2\n",
    "\n",
    "    # Find the center of the hoop\n",
    "    if len(hoop_locations[0]) > 0:\n",
    "        hoop_x = hoop_locations[1][0] + hoop_template.shape[1] // 2\n",
    "        hoop_y = hoop_locations[0][0] + hoop_template.shape[0] // 2\n",
    "\n",
    "        # Perform the swipe action using pyautogui\n",
    "        pyautogui.moveTo(basketball_x, basketball_y)\n",
    "        pyautogui.click(basketball_x, basketball_y)\n",
    "\n",
    "        # Swipe towards the hoop center\n",
    "        pyautogui.dragTo(hoop_x, hoop_y, duration=1)\n",
    "\n",
    "        # Release the mouse button\n",
    "        pyautogui.mouseUp()\n"
   ]
  },
  {
   "cell_type": "code",
   "execution_count": 12,
   "metadata": {},
   "outputs": [],
   "source": [
    "\n",
    "# Create bounding boxes around the matched regions for hoop\n",
    "for hoop_loc in zip(*hoop_locations[::-1]):\n",
    "    cv.rectangle(main_image, hoop_loc, (hoop_loc[0] + hoop_template.shape[1], hoop_loc[1] ), (0, 255, 0), 2)\n",
    "\n",
    "# Create bounding boxes around the matched regions for basketball\n",
    "for basketball_loc in zip(*basketball_locations[::-1]):\n",
    "    cv.rectangle(main_image, basketball_loc, (basketball_loc[0] + basketball_template.shape[1], basketball_loc[1] + basketball_template.shape[0]), (0, 255, ), 2)"
   ]
  },
  {
   "cell_type": "code",
   "execution_count": 13,
   "metadata": {},
   "outputs": [],
   "source": [
    "\n",
    "# Display the main image with bounding boxes\n",
    "cv.imshow('Template Matching Result', main_image)\n",
    "cv.waitKey(0)\n",
    "cv.destroyAllWindows()\n",
    "\n",
    "# Quit the Selenium Chrome driver\n",
    "driver.quit()\n"
   ]
  }
 ],
 "metadata": {
  "kernelspec": {
   "display_name": "base",
   "language": "python",
   "name": "python3"
  },
  "language_info": {
   "codemirror_mode": {
    "name": "ipython",
    "version": 3
   },
   "file_extension": ".py",
   "mimetype": "text/x-python",
   "name": "python",
   "nbconvert_exporter": "python",
   "pygments_lexer": "ipython3",
   "version": "3.10.9"
  },
  "orig_nbformat": 4
 },
 "nbformat": 4,
 "nbformat_minor": 2
}
